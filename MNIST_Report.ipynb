{
 "cells": [
  {
   "cell_type": "markdown",
   "id": "808331e7",
   "metadata": {},
   "source": [
    "# MNIST"
   ]
  },
  {
   "cell_type": "raw",
   "id": "0bdd02a1",
   "metadata": {},
   "source": [
    "This project applies KNN, SVM and Random Forest on MNIST dataset. Feature Engineering phase is first applied to the MNIST dataset by applying the HOG to the features. The following are the results of each Model after changing the hyperparameter of the model."
   ]
  },
  {
   "cell_type": "raw",
   "id": "c0a924db",
   "metadata": {},
   "source": [
    "• Experiment 1,2,3 are all about tweaking the pixels_per_cell hyperparameter in the HOG.\n",
    "• KNN Experiment is about tweaking the K hyperparameter in the KNN Model\n",
    "• SVM Experiment is about tweaking the C hyperparameter in the SVM with LinearSVC model\n",
    "• Random Forest Experiment is about tweaking the N_estimators and max_depth hyperparameters in the Random Forest Model"
   ]
  },
  {
   "cell_type": "raw",
   "id": "f88a79ad",
   "metadata": {},
   "source": [
    "From all the experiments, we see that the SVM Model is the best classifier on our MNIST dataset."
   ]
  },
  {
   "cell_type": "raw",
   "id": "bfefe1ac",
   "metadata": {},
   "source": [
    "Experiment 1:\n",
    "\n",
    "  • HOG pixels_per_cell = (2, 2):\n",
    "  \n",
    "    KNN\n",
    "    • k = 5\n",
    "    • accuracy = 96.56 %\n",
    "    \n",
    "    SVM\n",
    "    • c = 0.1\n",
    "    • accuracy = 98.009 %\n",
    "\n",
    "    Random forest\n",
    "    • N_estimators=500\n",
    "    • max_depth = 21\n",
    "    • accuracy = 97.18 %\n"
   ]
  },
  {
   "cell_type": "raw",
   "id": "888d1da3",
   "metadata": {},
   "source": [
    "Experiment 2:\n",
    "\n",
    "   • HOG pixels_per_cell = (4, 4):\n",
    "    \n",
    "    KNN\n",
    "    • k = 5\n",
    "    • accuracy = 97.49 %\n",
    "\n",
    "    SVM\n",
    "    • c = 0.1\n",
    "    • accuracy = 98.27 %\n",
    "\n",
    "    Random forest\n",
    "    • N_estimators=500\n",
    "    • max_depth = 21\n",
    "    • accuracy = 97.61 %"
   ]
  },
  {
   "cell_type": "raw",
   "id": "eec4f416",
   "metadata": {},
   "source": [
    "Experiment 3:\n",
    "\n",
    "   • HOG pixels_per_cell = (8, 8):\n",
    "    \n",
    "    KNN\n",
    "    • k = 5\n",
    "    • accuracy = 94.84 %\n",
    "\n",
    "    SVM\n",
    "    • c = 0.1\n",
    "    • accuracy = 94.1 %\n",
    "\n",
    "    Random forest\n",
    "    • N_estimators=500\n",
    "    • max_depth = 21\n",
    "    • accuracy = 97.19 %"
   ]
  },
  {
   "cell_type": "raw",
   "id": "7e8d8148",
   "metadata": {},
   "source": [
    "KNN Experiments:\n",
    "   \n",
    "  • HOG pixels_per_cell = (4, 4)\n",
    "  \n",
    "  KNN\n",
    "    • k = 3\n",
    "    • accuracy = 97 .28%\n",
    "\n",
    "    • k = 7\n",
    "    • accuracy = 97 .45%\n",
    "\n",
    "    • k = 9\n",
    "    • accuracy = 97.26 %\n",
    "\n",
    "    • k = 11\n",
    "    • accuracy = 97.24 %\n"
   ]
  },
  {
   "cell_type": "raw",
   "id": "0829d041",
   "metadata": {},
   "source": [
    "SVM Experiments: \n",
    "\n",
    " • HOG pixels_per_cell = (4, 4)\n",
    " \n",
    " SVM\n",
    "    • c = 0.01\n",
    "    • accuracy = 97.79 %\n",
    "\n",
    "    • c = 1\n",
    "    • accuracy = 97.79 %\n",
    "\n",
    "    • c = 2\n",
    "    • accuracy = 98.31 %\n",
    "\n",
    "    • c = 5\n",
    "    • accuracy = 98.16 %\n"
   ]
  },
  {
   "cell_type": "raw",
   "id": "9901e576",
   "metadata": {},
   "source": [
    "Random Forest Experiments:\n",
    "  \n",
    "  • HOG pixels_per_cell = (4, 4)\n",
    "  \n",
    "  Random Forest\n",
    "    • N_estimators=100\n",
    "    • max_depth = 15\n",
    "    • accuracy = 97.17 %\n",
    "\n",
    "    • N_estimators=200\n",
    "    • max_depth = 18\n",
    "    • accuracy = 97.61 %\n",
    "\n",
    "    • N_estimators=500\n",
    "    • max_depth = 22\n",
    "    • accuracy = 97.78 %\n",
    "    \n",
    "    • N_estimators=500\n",
    "    • max_depth = 5\n",
    "    • accuracy = 93.12 %\n",
    "\n"
   ]
  },
  {
   "cell_type": "raw",
   "id": "de452dd5",
   "metadata": {},
   "source": [
    "Best case for KNN:\n",
    "    • HOG pixels_per_cell = (4, 4)\n",
    "    • K=7\n",
    "    • accuracy = 97 .45%"
   ]
  },
  {
   "cell_type": "raw",
   "id": "b662ff5c",
   "metadata": {},
   "source": [
    "Best case for SVM:\n",
    "    • HOG pixels_per_cell = (4, 4)\n",
    "    • C = 2 \n",
    "    • accuracy = 98.2%"
   ]
  },
  {
   "cell_type": "raw",
   "id": "10b38245",
   "metadata": {},
   "source": [
    "Best case for Random forest:\n",
    "    • HOG pixels_per_cell = (4, 4)\n",
    "    • N_estimators=500\n",
    "    • max_depth = 22\n",
    "    • accuracy = 97.78 %"
   ]
  }
 ],
 "metadata": {
  "kernelspec": {
   "display_name": "Python 3 (ipykernel)",
   "language": "python",
   "name": "python3"
  },
  "language_info": {
   "codemirror_mode": {
    "name": "ipython",
    "version": 3
   },
   "file_extension": ".py",
   "mimetype": "text/x-python",
   "name": "python",
   "nbconvert_exporter": "python",
   "pygments_lexer": "ipython3",
   "version": "3.9.7"
  }
 },
 "nbformat": 4,
 "nbformat_minor": 5
}
