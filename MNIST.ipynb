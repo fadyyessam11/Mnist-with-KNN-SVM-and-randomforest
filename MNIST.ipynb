{
 "cells": [
  {
   "cell_type": "markdown",
   "metadata": {
    "id": "nZdYdZi4ii9Q"
   },
   "source": [
    "# Importing libraries"
   ]
  },
  {
   "cell_type": "code",
   "execution_count": 1,
   "metadata": {
    "id": "c2k_6NfDi6Uc"
   },
   "outputs": [],
   "source": [
    "import tensorflow as tf\n",
    "import matplotlib.pyplot as plt\n",
    "%matplotlib inline \n",
    "from tensorflow import keras\n",
    "from tensorflow.keras import models\n",
    "import numpy as np\n",
    "import pandas as pd\n",
    "from skimage.feature import hog\n",
    "from sklearn.neighbors import KNeighborsClassifier\n",
    "from sklearn import preprocessing\n",
    "from sklearn import metrics\n",
    "from sklearn.ensemble import RandomForestClassifier  \n",
    "from sklearn.model_selection import RandomizedSearchCV, GridSearchCV \n",
    "from sklearn.model_selection import cross_val_score\n",
    "from sklearn.metrics import classification_report\n",
    "from sklearn.metrics import confusion_matrix\n",
    "from sklearn.metrics import accuracy_score\n",
    "from sklearn import metrics\n",
    "from sklearn.svm import LinearSVC\n",
    "from sklearn.svm import SVC\n",
    "from sklearn import svm"
   ]
  },
  {
   "cell_type": "markdown",
   "metadata": {
    "id": "hWOBCx8xiuj3"
   },
   "source": [
    "# Loading dataset"
   ]
  },
  {
   "cell_type": "code",
   "execution_count": 2,
   "metadata": {
    "id": "k9pSlLvwlCyM"
   },
   "outputs": [],
   "source": [
    "#Loading data\n",
    "(x_train,y_train) , (x_test ,y_test) = keras.datasets.mnist.load_data()"
   ]
  },
  {
   "cell_type": "code",
   "execution_count": 3,
   "metadata": {
    "colab": {
     "base_uri": "https://localhost:8080/",
     "height": 112
    },
    "id": "SUlTOOZCcn4W",
    "outputId": "5924b2e8-3548-4bfd-e5d2-df64f8cfc3b7"
   },
   "outputs": [
    {
     "data": {
      "image/png": "[encoded data removed]",
      "text/plain": [
       "<Figure size 504x216 with 7 Axes>"
      ]
     },
     "metadata": {
      "needs_background": "light"
     },
     "output_type": "display_data"
    }
   ],
   "source": [
    "fig, axes=plt.subplots(1,7,figsize=(7,3))\n",
    "for img,label,ax in zip(x_train[:7],y_train[:7],axes):\n",
    "  ax.set_title(label)\n",
    "  ax.imshow(img)\n",
    "plt.show()"
   ]
  },
  {
   "cell_type": "code",
   "execution_count": 4,
   "metadata": {
    "colab": {
     "base_uri": "https://localhost:8080/"
    },
    "id": "W2yO-BQhleBT",
    "outputId": "619676ff-fb69-4875-d162-36e42156ce9a"
   },
   "outputs": [
    {
     "name": "stdout",
     "output_type": "stream",
     "text": [
      "The X train data shape is:  (60000, 28, 28)\n",
      "The Y train data shape is:  (60000,)\n",
      "The X test data shape is:  (10000, 28, 28)\n",
      "The Y test data shape is:  (10000,)\n"
     ]
    }
   ],
   "source": [
    "#Shape of the data\n",
    "print(\"The X train data shape is: \", x_train.shape)\n",
    "print(\"The Y train data shape is: \", y_train.shape)\n",
    "print(\"The X test data shape is: \", x_test.shape)\n",
    "print(\"The Y test data shape is: \", y_test.shape)"
   ]
  },
  {
   "cell_type": "markdown",
   "metadata": {
    "id": "8z2QXyvii6k_"
   },
   "source": [
    "# Applying HOG"
   ]
  },
  {
   "cell_type": "code",
   "execution_count": 5,
   "metadata": {
    "id": "CI0rDdpCmfgI"
   },
   "outputs": [],
   "source": [
    "#HOG Function\n",
    "def HOG(X, image_shape=(28, 28), pixels_per_cell=(4, 4)):\n",
    "    feature_matrix = []\n",
    "    for row in X:\n",
    "        img = row.reshape(image_shape)\n",
    "        fd = hog(img, orientations=8, pixels_per_cell=pixels_per_cell, cells_per_block=(2, 2))\n",
    "        feature_matrix.append(fd)\n",
    "    \n",
    "    return np.array(feature_matrix)"
   ]
  },
  {
   "cell_type": "code",
   "execution_count": 6,
   "metadata": {
    "id": "lciabY0Bpig0"
   },
   "outputs": [],
   "source": [
    "#Apply HOG on x_train\n",
    "x_train = HOG(x_train, pixels_per_cell=(4,4))"
   ]
  },
  {
   "cell_type": "code",
   "execution_count": 7,
   "metadata": {
    "id": "pPiPnATgp1YL"
   },
   "outputs": [],
   "source": [
    "#Apply HOG on x_test\n",
    "x_test = HOG(x_test, pixels_per_cell=(4, 4))"
   ]
  },
  {
   "cell_type": "markdown",
   "metadata": {
    "id": "DsZMCxBsjBeP"
   },
   "source": [
    "# Checking the shape of X_train and X_test"
   ]
  },
  {
   "cell_type": "code",
   "execution_count": 8,
   "metadata": {
    "id": "JYyz9VZJp8Qp"
   },
   "outputs": [
    {
     "name": "stdout",
     "output_type": "stream",
     "text": [
      "The X train data shape is:  (60000, 1152)\n",
      "The X test data shape is:  (10000, 1152)\n"
     ]
    }
   ],
   "source": [
    "#Shape of the data\n",
    "print(\"The X train data shape is: \", x_train.shape)\n",
    "print(\"The X test data shape is: \", x_test.shape)"
   ]
  },
  {
   "cell_type": "raw",
   "metadata": {},
   "source": [
    "#The recall means \"how many of this class you find over the whole number of element of this class\".\n",
    "#The precision will be \"how many are correctly classified among that class\"\n",
    "#The f1-score is the harmonic mean between precision & recall.\n",
    "#The support is the number of occurence of the given class in your dataset."
   ]
  },
  {
   "cell_type": "markdown",
   "metadata": {
    "id": "GkqfumWZs__B"
   },
   "source": [
    "# Applying KNN"
   ]
  },
  {
   "cell_type": "code",
   "execution_count": 9,
   "metadata": {
    "id": "RLwKHCpQtG11"
   },
   "outputs": [],
   "source": [
    "KNN = KNeighborsClassifier(7).fit(x_train,y_train)\n",
    "knn_prediction = KNN.predict(x_test)"
   ]
  },
  {
   "cell_type": "code",
   "execution_count": 10,
   "metadata": {},
   "outputs": [
    {
     "name": "stdout",
     "output_type": "stream",
     "text": [
      "accuracy:  97.45 %\n"
     ]
    }
   ],
   "source": [
    "KNN_accuracy = metrics.accuracy_score(y_test, knn_prediction)\n",
    "print(\"accuracy: \", KNN_accuracy*100 , \"%\")"
   ]
  },
  {
   "cell_type": "markdown",
   "metadata": {},
   "source": [
    "# Applying SVM with LinearSVC"
   ]
  },
  {
   "cell_type": "code",
   "execution_count": 11,
   "metadata": {
    "id": "7rVUUe4OMMQZ"
   },
   "outputs": [
    {
     "name": "stderr",
     "output_type": "stream",
     "text": [
      "C:\\Users\\abanoub samir\\anaconda3\\lib\\site-packages\\sklearn\\svm\\_base.py:985: ConvergenceWarning: Liblinear failed to converge, increase the number of iterations.\n",
      "  warnings.warn(\"Liblinear failed to converge, increase \"\n"
     ]
    },
    {
     "data": {
      "text/plain": [
       "LinearSVC(C=2)"
      ]
     },
     "execution_count": 11,
     "metadata": {},
     "output_type": "execute_result"
    }
   ],
   "source": [
    "#Apply SVM (Support Vector Machine )\n",
    "#Regularization parameter in python's Scikit-learn C parameter used to maintain regularization. Here C is the penalty parameter, which represents misclassification or error term.\n",
    "svc = svm.LinearSVC(C = 2)\n",
    "\n",
    "# Train the model using the training sets\n",
    "svc.fit(x_train, y_train)\n",
    "\n",
    "# svc = svm.SVC(kernel ='linear', C = 0.1,max_iter=250)\n",
    "# svc.fit(x_train, y_train)\n",
    "# # Calculate Accuracy of Model\n",
    "# predicted= svc.predict(x_test)\n",
    "# accuracy = accuracy_score(y_test,predicted)\n",
    "# print(\"Model Accuracy is\", accuracy)"
   ]
  },
  {
   "cell_type": "code",
   "execution_count": 12,
   "metadata": {},
   "outputs": [],
   "source": [
    "predicted= svc.predict(x_test)"
   ]
  },
  {
   "cell_type": "code",
   "execution_count": 13,
   "metadata": {},
   "outputs": [
    {
     "name": "stdout",
     "output_type": "stream",
     "text": [
      "Model Accuracy is 98.21 %\n"
     ]
    }
   ],
   "source": [
    "# Calculate Accuracy of Model\n",
    "accuracy = accuracy_score(y_test,predicted)\n",
    "print(\"Model Accuracy is\", accuracy*100,\"%\")"
   ]
  },
  {
   "cell_type": "markdown",
   "metadata": {
    "id": "-R6JKr21wrea"
   },
   "source": [
    "# Applying Random Forest"
   ]
  },
  {
   "cell_type": "code",
   "execution_count": 14,
   "metadata": {
    "id": "Wf3xrpvpv_OZ"
   },
   "outputs": [
    {
     "data": {
      "text/plain": [
       "RandomForestClassifier(max_depth=22, n_estimators=500, random_state=42)"
      ]
     },
     "execution_count": 14,
     "metadata": {},
     "output_type": "execute_result"
    }
   ],
   "source": [
    "#n_estimators: The number of decision trees being built in the forest\n",
    "#Max_depth: The maximum levels allowed in a decision tree. If set to nothing, The decision tree will keep on splitting until purity is reached\n",
    "rf = RandomForestClassifier(n_estimators=500, max_depth = 22, random_state = 42)\n",
    "rf.fit(x_train, y_train)"
   ]
  },
  {
   "cell_type": "code",
   "execution_count": 15,
   "metadata": {},
   "outputs": [],
   "source": [
    "y_pred=rf.predict(x_test)"
   ]
  },
  {
   "cell_type": "code",
   "execution_count": 16,
   "metadata": {
    "id": "vArSknVwxS2F"
   },
   "outputs": [
    {
     "name": "stdout",
     "output_type": "stream",
     "text": [
      "Accuracy:  97.78 %\n"
     ]
    }
   ],
   "source": [
    "print(\"Accuracy: \",accuracy_score(y_pred, y_test)*100,\"%\")"
   ]
  },
  {
   "cell_type": "code",
   "execution_count": 17,
   "metadata": {
    "id": "_HD_JUqaFVuo"
   },
   "outputs": [
    {
     "name": "stdout",
     "output_type": "stream",
     "text": [
      "[0.957  0.951  0.9695 0.9815 0.9785]\n",
      "Cross-Validation (CV=5) Accuracy:  96.75 %\n"
     ]
    }
   ],
   "source": [
    "# Using cross validation to evaluate performance. Compute mean score and 95% interval of score estimate\n",
    "scores = cross_val_score(rf, x_test, y_test, cv=5, scoring='accuracy')\n",
    "print(scores)\n",
    "print(\"Cross-Validation (CV=5) Accuracy: \", scores.mean()*100,\"%\")"
   ]
  },
  {
   "cell_type": "code",
   "execution_count": 18,
   "metadata": {},
   "outputs": [
    {
     "name": "stdout",
     "output_type": "stream",
     "text": [
      "Classification Report\n",
      "              precision    recall  f1-score   support\n",
      "\n",
      "           0       0.98      1.00      0.99       980\n",
      "           1       0.99      0.99      0.99      1135\n",
      "           2       0.98      0.99      0.98      1032\n",
      "           3       0.97      0.97      0.97      1010\n",
      "           4       0.98      0.97      0.98       982\n",
      "           5       0.98      0.97      0.97       892\n",
      "           6       0.98      0.98      0.98       958\n",
      "           7       0.98      0.97      0.98      1028\n",
      "           8       0.98      0.97      0.97       974\n",
      "           9       0.97      0.96      0.97      1009\n",
      "\n",
      "    accuracy                           0.98     10000\n",
      "   macro avg       0.98      0.98      0.98     10000\n",
      "weighted avg       0.98      0.98      0.98     10000\n",
      "\n"
     ]
    }
   ],
   "source": [
    "print (\"Classification Report\")\n",
    "print(classification_report(y_test, y_pred))"
   ]
  }
 ],
 "metadata": {
  "colab": {
   "collapsed_sections": [],
   "name": "MNIST.ipynb",
   "provenance": [],
   "toc_visible": true
  },
  "kernelspec": {
   "display_name": "Python 3 (ipykernel)",
   "language": "python",
   "name": "python3"
  },
  "language_info": {
   "codemirror_mode": {
    "name": "ipython",
    "version": 3
   },
   "file_extension": ".py",
   "mimetype": "text/x-python",
   "name": "python",
   "nbconvert_exporter": "python",
   "pygments_lexer": "ipython3",
   "version": "3.9.7"
  }
 },
 "nbformat": 4,
 "nbformat_minor": 1
}
